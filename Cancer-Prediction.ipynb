{
 "cells": [
  {
   "cell_type": "code",
   "execution_count": 1,
   "id": "2ec24329-f30a-4794-b732-61104f0ea053",
   "metadata": {},
   "outputs": [],
   "source": [
    "import pandas as pd\n",
    "import numpy as np \n",
    "from sklearn.impute import SimpleImputer\n",
    "from sklearn.ensemble import RandomForestClassifier\n",
    "from sklearn.metrics import accuracy_score"
   ]
  },
  {
   "cell_type": "code",
   "execution_count": 2,
   "id": "96f21cdd-3d42-48d0-ae4e-af1581e265a8",
   "metadata": {},
   "outputs": [],
   "source": [
    "filename = \"cancer.csv\"\n",
    "data = pd.read_csv(filename, header=1)"
   ]
  },
  {
   "cell_type": "code",
   "execution_count": 3,
   "id": "0484ac9d-9868-455f-a32c-50c304631151",
   "metadata": {},
   "outputs": [
    {
     "name": "stdout",
     "output_type": "stream",
     "text": [
      "           id diagnosis  radius_mean  texture_mean  perimeter_mean  area_mean  \\\n",
      "0      842517         M        20.57         17.77          132.90     1326.0   \n",
      "1    84300903         M        19.69         21.25          130.00     1203.0   \n",
      "2    84348301         M        11.42         20.38           77.58      386.1   \n",
      "3    84358402         M        20.29         14.34          135.10     1297.0   \n",
      "4      843786         M        12.45         15.70           82.57      477.1   \n",
      "..        ...       ...          ...           ...             ...        ...   \n",
      "563    926424         M        21.56         22.39          142.00     1479.0   \n",
      "564    926682         M        20.13         28.25          131.20     1261.0   \n",
      "565    926954         M        16.60         28.08          108.30      858.1   \n",
      "566    927241         M        20.60         29.33          140.10     1265.0   \n",
      "567     92751         B         7.76         24.54           47.92      181.0   \n",
      "\n",
      "     smoothness_mean  compactness_mean  concavity_mean  concave points_mean  \\\n",
      "0            0.08474           0.07864         0.08690              0.07017   \n",
      "1            0.10960           0.15990         0.19740              0.12790   \n",
      "2            0.14250           0.28390         0.24140              0.10520   \n",
      "3            0.10030           0.13280         0.19800              0.10430   \n",
      "4            0.12780           0.17000         0.15780              0.08089   \n",
      "..               ...               ...             ...                  ...   \n",
      "563          0.11100           0.11590         0.24390              0.13890   \n",
      "564          0.09780           0.10340         0.14400              0.09791   \n",
      "565          0.08455           0.10230         0.09251              0.05302   \n",
      "566          0.11780           0.27700         0.35140              0.15200   \n",
      "567          0.05263           0.04362         0.00000              0.00000   \n",
      "\n",
      "     ...  radius_worst  texture_worst  perimeter_worst  area_worst  \\\n",
      "0    ...        24.990          23.41           158.80      1956.0   \n",
      "1    ...        23.570          25.53           152.50      1709.0   \n",
      "2    ...        14.910          26.50            98.87       567.7   \n",
      "3    ...        22.540          16.67           152.20      1575.0   \n",
      "4    ...        15.470          23.75           103.40       741.6   \n",
      "..   ...           ...            ...              ...         ...   \n",
      "563  ...        25.450          26.40           166.10      2027.0   \n",
      "564  ...        23.690          38.25           155.00      1731.0   \n",
      "565  ...        18.980          34.12           126.70      1124.0   \n",
      "566  ...        25.740          39.42           184.60      1821.0   \n",
      "567  ...         9.456          30.37            59.16       268.6   \n",
      "\n",
      "     smoothness_worst  compactness_worst  concavity_worst  \\\n",
      "0             0.12380            0.18660           0.2416   \n",
      "1             0.14440            0.42450           0.4504   \n",
      "2             0.20980            0.86630           0.6869   \n",
      "3             0.13740            0.20500           0.4000   \n",
      "4             0.17910            0.52490           0.5355   \n",
      "..                ...                ...              ...   \n",
      "563           0.14100            0.21130           0.4107   \n",
      "564           0.11660            0.19220           0.3215   \n",
      "565           0.11390            0.30940           0.3403   \n",
      "566           0.16500            0.86810           0.9387   \n",
      "567           0.08996            0.06444           0.0000   \n",
      "\n",
      "     concave points_worst  symmetry_worst  fractal_dimension_worst  \n",
      "0                  0.1860          0.2750                  0.08902  \n",
      "1                  0.2430          0.3613                  0.08758  \n",
      "2                  0.2575          0.6638                  0.17300  \n",
      "3                  0.1625          0.2364                  0.07678  \n",
      "4                  0.1741          0.3985                  0.12440  \n",
      "..                    ...             ...                      ...  \n",
      "563                0.2216          0.2060                  0.07115  \n",
      "564                0.1628          0.2572                  0.06637  \n",
      "565                0.1418          0.2218                  0.07820  \n",
      "566                0.2650          0.4087                  0.12400  \n",
      "567                0.0000          0.2871                  0.07039  \n",
      "\n",
      "[568 rows x 32 columns]\n"
     ]
    }
   ],
   "source": [
    "data.columns = [\n",
    "    \"id\",\n",
    "    \"diagnosis\",\n",
    "    \"radius_mean\",\n",
    "    \"texture_mean\",\n",
    "    \"perimeter_mean\",\n",
    "    \"area_mean\",\n",
    "    \"smoothness_mean\",\n",
    "    \"compactness_mean\",\n",
    "    \"concavity_mean\",\n",
    "    \"concave points_mean\",\n",
    "    \"symmetry_mean\",\n",
    "    \"fractal_dimension_mean\",\n",
    "    \"radius_se\",\n",
    "    \"texture_se\",\n",
    "    \"perimeter_se\",\n",
    "    \"area_se\",\n",
    "    \"smoothness_se\",\n",
    "    \"compactness_se\",\n",
    "    \"concavity_se\",\n",
    "    \"concave points_se\",\n",
    "    \"symmetry_se\",\n",
    "    \"fractal_dimension_se\",\n",
    "    \"radius_worst\",\n",
    "    \"texture_worst\",\n",
    "    \"perimeter_worst\",\n",
    "    \"area_worst\",\n",
    "    \"smoothness_worst\",\n",
    "    \"compactness_worst\",\n",
    "    \"concavity_worst\",\n",
    "    \"concave points_worst\",\n",
    "    \"symmetry_worst\",\n",
    "    \"fractal_dimension_worst\"\n",
    "]\n",
    "print(data)"
   ]
  },
  {
   "cell_type": "code",
   "execution_count": 4,
   "id": "7d21200b-8ccc-44ff-ac97-0d1826833d50",
   "metadata": {},
   "outputs": [
    {
     "name": "stdout",
     "output_type": "stream",
     "text": [
      "(568, 32)\n"
     ]
    }
   ],
   "source": [
    "print(data.shape)"
   ]
  },
  {
   "cell_type": "code",
   "execution_count": 5,
   "id": "8b0dfcce-24bd-47be-b800-cbf9f1e19318",
   "metadata": {},
   "outputs": [
    {
     "data": {
      "text/html": [
       "<div>\n",
       "<style scoped>\n",
       "    .dataframe tbody tr th:only-of-type {\n",
       "        vertical-align: middle;\n",
       "    }\n",
       "\n",
       "    .dataframe tbody tr th {\n",
       "        vertical-align: top;\n",
       "    }\n",
       "\n",
       "    .dataframe thead th {\n",
       "        text-align: right;\n",
       "    }\n",
       "</style>\n",
       "<table border=\"1\" class=\"dataframe\">\n",
       "  <thead>\n",
       "    <tr style=\"text-align: right;\">\n",
       "      <th></th>\n",
       "      <th>id</th>\n",
       "      <th>diagnosis</th>\n",
       "      <th>radius_mean</th>\n",
       "      <th>texture_mean</th>\n",
       "      <th>perimeter_mean</th>\n",
       "      <th>area_mean</th>\n",
       "      <th>smoothness_mean</th>\n",
       "      <th>compactness_mean</th>\n",
       "      <th>concavity_mean</th>\n",
       "      <th>concave points_mean</th>\n",
       "      <th>...</th>\n",
       "      <th>radius_worst</th>\n",
       "      <th>texture_worst</th>\n",
       "      <th>perimeter_worst</th>\n",
       "      <th>area_worst</th>\n",
       "      <th>smoothness_worst</th>\n",
       "      <th>compactness_worst</th>\n",
       "      <th>concavity_worst</th>\n",
       "      <th>concave points_worst</th>\n",
       "      <th>symmetry_worst</th>\n",
       "      <th>fractal_dimension_worst</th>\n",
       "    </tr>\n",
       "  </thead>\n",
       "  <tbody>\n",
       "    <tr>\n",
       "      <th>0</th>\n",
       "      <td>842517</td>\n",
       "      <td>M</td>\n",
       "      <td>20.57</td>\n",
       "      <td>17.77</td>\n",
       "      <td>132.90</td>\n",
       "      <td>1326.0</td>\n",
       "      <td>0.08474</td>\n",
       "      <td>0.07864</td>\n",
       "      <td>0.0869</td>\n",
       "      <td>0.07017</td>\n",
       "      <td>...</td>\n",
       "      <td>24.99</td>\n",
       "      <td>23.41</td>\n",
       "      <td>158.80</td>\n",
       "      <td>1956.0</td>\n",
       "      <td>0.1238</td>\n",
       "      <td>0.1866</td>\n",
       "      <td>0.2416</td>\n",
       "      <td>0.1860</td>\n",
       "      <td>0.2750</td>\n",
       "      <td>0.08902</td>\n",
       "    </tr>\n",
       "    <tr>\n",
       "      <th>1</th>\n",
       "      <td>84300903</td>\n",
       "      <td>M</td>\n",
       "      <td>19.69</td>\n",
       "      <td>21.25</td>\n",
       "      <td>130.00</td>\n",
       "      <td>1203.0</td>\n",
       "      <td>0.10960</td>\n",
       "      <td>0.15990</td>\n",
       "      <td>0.1974</td>\n",
       "      <td>0.12790</td>\n",
       "      <td>...</td>\n",
       "      <td>23.57</td>\n",
       "      <td>25.53</td>\n",
       "      <td>152.50</td>\n",
       "      <td>1709.0</td>\n",
       "      <td>0.1444</td>\n",
       "      <td>0.4245</td>\n",
       "      <td>0.4504</td>\n",
       "      <td>0.2430</td>\n",
       "      <td>0.3613</td>\n",
       "      <td>0.08758</td>\n",
       "    </tr>\n",
       "    <tr>\n",
       "      <th>2</th>\n",
       "      <td>84348301</td>\n",
       "      <td>M</td>\n",
       "      <td>11.42</td>\n",
       "      <td>20.38</td>\n",
       "      <td>77.58</td>\n",
       "      <td>386.1</td>\n",
       "      <td>0.14250</td>\n",
       "      <td>0.28390</td>\n",
       "      <td>0.2414</td>\n",
       "      <td>0.10520</td>\n",
       "      <td>...</td>\n",
       "      <td>14.91</td>\n",
       "      <td>26.50</td>\n",
       "      <td>98.87</td>\n",
       "      <td>567.7</td>\n",
       "      <td>0.2098</td>\n",
       "      <td>0.8663</td>\n",
       "      <td>0.6869</td>\n",
       "      <td>0.2575</td>\n",
       "      <td>0.6638</td>\n",
       "      <td>0.17300</td>\n",
       "    </tr>\n",
       "    <tr>\n",
       "      <th>3</th>\n",
       "      <td>84358402</td>\n",
       "      <td>M</td>\n",
       "      <td>20.29</td>\n",
       "      <td>14.34</td>\n",
       "      <td>135.10</td>\n",
       "      <td>1297.0</td>\n",
       "      <td>0.10030</td>\n",
       "      <td>0.13280</td>\n",
       "      <td>0.1980</td>\n",
       "      <td>0.10430</td>\n",
       "      <td>...</td>\n",
       "      <td>22.54</td>\n",
       "      <td>16.67</td>\n",
       "      <td>152.20</td>\n",
       "      <td>1575.0</td>\n",
       "      <td>0.1374</td>\n",
       "      <td>0.2050</td>\n",
       "      <td>0.4000</td>\n",
       "      <td>0.1625</td>\n",
       "      <td>0.2364</td>\n",
       "      <td>0.07678</td>\n",
       "    </tr>\n",
       "    <tr>\n",
       "      <th>4</th>\n",
       "      <td>843786</td>\n",
       "      <td>M</td>\n",
       "      <td>12.45</td>\n",
       "      <td>15.70</td>\n",
       "      <td>82.57</td>\n",
       "      <td>477.1</td>\n",
       "      <td>0.12780</td>\n",
       "      <td>0.17000</td>\n",
       "      <td>0.1578</td>\n",
       "      <td>0.08089</td>\n",
       "      <td>...</td>\n",
       "      <td>15.47</td>\n",
       "      <td>23.75</td>\n",
       "      <td>103.40</td>\n",
       "      <td>741.6</td>\n",
       "      <td>0.1791</td>\n",
       "      <td>0.5249</td>\n",
       "      <td>0.5355</td>\n",
       "      <td>0.1741</td>\n",
       "      <td>0.3985</td>\n",
       "      <td>0.12440</td>\n",
       "    </tr>\n",
       "  </tbody>\n",
       "</table>\n",
       "<p>5 rows × 32 columns</p>\n",
       "</div>"
      ],
      "text/plain": [
       "         id diagnosis  radius_mean  texture_mean  perimeter_mean  area_mean  \\\n",
       "0    842517         M        20.57         17.77          132.90     1326.0   \n",
       "1  84300903         M        19.69         21.25          130.00     1203.0   \n",
       "2  84348301         M        11.42         20.38           77.58      386.1   \n",
       "3  84358402         M        20.29         14.34          135.10     1297.0   \n",
       "4    843786         M        12.45         15.70           82.57      477.1   \n",
       "\n",
       "   smoothness_mean  compactness_mean  concavity_mean  concave points_mean  \\\n",
       "0          0.08474           0.07864          0.0869              0.07017   \n",
       "1          0.10960           0.15990          0.1974              0.12790   \n",
       "2          0.14250           0.28390          0.2414              0.10520   \n",
       "3          0.10030           0.13280          0.1980              0.10430   \n",
       "4          0.12780           0.17000          0.1578              0.08089   \n",
       "\n",
       "   ...  radius_worst  texture_worst  perimeter_worst  area_worst  \\\n",
       "0  ...         24.99          23.41           158.80      1956.0   \n",
       "1  ...         23.57          25.53           152.50      1709.0   \n",
       "2  ...         14.91          26.50            98.87       567.7   \n",
       "3  ...         22.54          16.67           152.20      1575.0   \n",
       "4  ...         15.47          23.75           103.40       741.6   \n",
       "\n",
       "   smoothness_worst  compactness_worst  concavity_worst  concave points_worst  \\\n",
       "0            0.1238             0.1866           0.2416                0.1860   \n",
       "1            0.1444             0.4245           0.4504                0.2430   \n",
       "2            0.2098             0.8663           0.6869                0.2575   \n",
       "3            0.1374             0.2050           0.4000                0.1625   \n",
       "4            0.1791             0.5249           0.5355                0.1741   \n",
       "\n",
       "   symmetry_worst  fractal_dimension_worst  \n",
       "0          0.2750                  0.08902  \n",
       "1          0.3613                  0.08758  \n",
       "2          0.6638                  0.17300  \n",
       "3          0.2364                  0.07678  \n",
       "4          0.3985                  0.12440  \n",
       "\n",
       "[5 rows x 32 columns]"
      ]
     },
     "metadata": {},
     "output_type": "display_data"
    }
   ],
   "source": [
    "display(data.head())"
   ]
  },
  {
   "cell_type": "code",
   "execution_count": 6,
   "id": "480f3937-e919-40ec-9d54-315f633fef8b",
   "metadata": {},
   "outputs": [
    {
     "name": "stdout",
     "output_type": "stream",
     "text": [
      "id                           int64\n",
      "diagnosis                   object\n",
      "radius_mean                float64\n",
      "texture_mean               float64\n",
      "perimeter_mean             float64\n",
      "area_mean                  float64\n",
      "smoothness_mean            float64\n",
      "compactness_mean           float64\n",
      "concavity_mean             float64\n",
      "concave points_mean        float64\n",
      "symmetry_mean              float64\n",
      "fractal_dimension_mean     float64\n",
      "radius_se                  float64\n",
      "texture_se                 float64\n",
      "perimeter_se               float64\n",
      "area_se                    float64\n",
      "smoothness_se              float64\n",
      "compactness_se             float64\n",
      "concavity_se               float64\n",
      "concave points_se          float64\n",
      "symmetry_se                float64\n",
      "fractal_dimension_se       float64\n",
      "radius_worst               float64\n",
      "texture_worst              float64\n",
      "perimeter_worst            float64\n",
      "area_worst                 float64\n",
      "smoothness_worst           float64\n",
      "compactness_worst          float64\n",
      "concavity_worst            float64\n",
      "concave points_worst       float64\n",
      "symmetry_worst             float64\n",
      "fractal_dimension_worst    float64\n",
      "dtype: object\n"
     ]
    }
   ],
   "source": [
    "data['radius_mean'] = pd.to_numeric(data['radius_mean'], errors='coerce')\n",
    "data['texture_mean'] = pd.to_numeric(data['radius_mean'], errors='coerce')\n",
    "data['perimeter_mean'] = pd.to_numeric(data['perimeter_mean'], errors='coerce')\n",
    "data['area_mean'] = pd.to_numeric(data['area_mean'], errors='coerce')\n",
    "data['smoothness_mean'] = pd.to_numeric(data['smoothness_mean'], errors='coerce')\n",
    "data['compactness_mean'] = pd.to_numeric(data['compactness_mean'], errors='coerce')\n",
    "data['concavity_mean'] = pd.to_numeric(data['concavity_mean'], errors='coerce')\n",
    "data['concave points_mean'] = pd.to_numeric(data['concave points_mean'], errors='coerce')\n",
    "data['symmetry_mean'] = pd.to_numeric(data['symmetry_mean'], errors='coerce')\n",
    "data['fractal_dimension_mean'] = pd.to_numeric(data['fractal_dimension_mean'], errors='coerce')\n",
    "data['radius_se'] = pd.to_numeric(data['radius_se'], errors='coerce')\n",
    "data['texture_se'] = pd.to_numeric(data['texture_se'], errors='coerce')\n",
    "data['perimeter_se'] = pd.to_numeric(data['perimeter_se'], errors='coerce')\n",
    "data['area_se'] = pd.to_numeric(data['area_se'], errors='coerce')\n",
    "data['smoothness_se'] = pd.to_numeric(data['smoothness_se'], errors='coerce')\n",
    "data['compactness_se'] = pd.to_numeric(data['compactness_se'], errors='coerce')\n",
    "data['concavity_se'] = pd.to_numeric(data['concavity_se'], errors='coerce')\n",
    "data['concave points_se'] = pd.to_numeric(data['concave points_se'], errors='coerce')\n",
    "data['symmetry_se'] = pd.to_numeric(data['symmetry_se'], errors='coerce')\n",
    "data['fractal_dimension_se'] = pd.to_numeric(data['fractal_dimension_se'], errors='coerce')\n",
    "data['radius_worst'] = pd.to_numeric(data['radius_worst'], errors='coerce')\n",
    "data['texture_worst'] = pd.to_numeric(data['texture_worst'], errors='coerce')\n",
    "data['perimeter_worst'] = pd.to_numeric(data['perimeter_worst'], errors='coerce')\n",
    "data['area_worst'] = pd.to_numeric(data['area_worst'], errors='coerce')\n",
    "data['smoothness_worst'] = pd.to_numeric(data['smoothness_worst'], errors='coerce')\n",
    "data['compactness_worst'] = pd.to_numeric(data['compactness_worst'], errors='coerce')\n",
    "data['concavity_worst'] = pd.to_numeric(data['concavity_worst'], errors='coerce')\n",
    "data['concave points_worst'] = pd.to_numeric(data['concave points_worst'], errors='coerce')\n",
    "data['symmetry_worst'] = pd.to_numeric(data['symmetry_worst'], errors='coerce')\n",
    "data['fractal_dimension_worst'] = pd.to_numeric(data['fractal_dimension_worst'], errors='coerce')\n",
    "\n",
    "print(data.dtypes)"
   ]
  },
  {
   "cell_type": "code",
   "execution_count": 7,
   "id": "1e1d9a8e-271d-47cc-beaf-0d1a8b4d62b9",
   "metadata": {},
   "outputs": [
    {
     "data": {
      "text/plain": [
       "B    357\n",
       "M    211\n",
       "Name: diagnosis, dtype: int64"
      ]
     },
     "metadata": {},
     "output_type": "display_data"
    }
   ],
   "source": [
    "# Summarize the categorical field diganosis\n",
    "display(data.diagnosis.value_counts())"
   ]
  },
  {
   "cell_type": "code",
   "execution_count": 8,
   "id": "f9f7acb2-6052-4442-8835-ec5c99832dd3",
   "metadata": {},
   "outputs": [],
   "source": [
    "# Split the data into 80% training, 10% validation and 10% testing.\n",
    "rand_split = np.random.rand(len(data))\n",
    "train_list = rand_split < 0.8\n",
    "val_list = (rand_split >= 0.8) & (rand_split < 0.9)\n",
    "test_list = rand_split >= 0.9"
   ]
  },
  {
   "cell_type": "code",
   "execution_count": 9,
   "id": "1a09a1a3-8068-4af7-a19b-7b942de3dc09",
   "metadata": {},
   "outputs": [],
   "source": [
    "data_train = data[train_list]\n",
    "data_val = data[val_list]\n",
    "data_test = data[test_list]"
   ]
  },
  {
   "cell_type": "code",
   "execution_count": 10,
   "id": "b97b0b70-4192-4aa2-a855-8ee8acb23341",
   "metadata": {},
   "outputs": [],
   "source": [
    "train_y = ((data_train.iloc[:, 1] == \"M\") + 0).to_numpy()\n",
    "train_X = data_train.iloc[:, 2:].to_numpy()"
   ]
  },
  {
   "cell_type": "code",
   "execution_count": 11,
   "id": "7ce090e1-205f-4bff-b485-e4a99ae15951",
   "metadata": {},
   "outputs": [],
   "source": [
    "val_y = ((data_val.iloc[:, 1] == \"M\") + 0).to_numpy()\n",
    "val_X = data_val.iloc[:, 2:].to_numpy()"
   ]
  },
  {
   "cell_type": "code",
   "execution_count": 12,
   "id": "2770c225-f16d-4e67-a9fd-c136814ea842",
   "metadata": {},
   "outputs": [],
   "source": [
    "test_y = ((data_test.iloc[:, 1] == \"M\") + 0).to_numpy()\n",
    "test_X = data_test.iloc[:, 2:].to_numpy();"
   ]
  },
  {
   "cell_type": "code",
   "execution_count": 16,
   "id": "bf1921cc-27ea-43dc-bda3-bfc87fa198f5",
   "metadata": {},
   "outputs": [
    {
     "data": {
      "text/plain": [
       "RandomForestClassifier(n_estimators=500)"
      ]
     },
     "execution_count": 16,
     "metadata": {},
     "output_type": "execute_result"
    }
   ],
   "source": [
    "# Train a random forest classifier on the training data\n",
    "clf = RandomForestClassifier(n_estimators=500)\n",
    "clf.fit(train_X, train_y)"
   ]
  },
  {
   "cell_type": "code",
   "execution_count": 17,
   "id": "5486a611-6606-4d93-bf12-92c2d81a88fc",
   "metadata": {},
   "outputs": [
    {
     "name": "stdout",
     "output_type": "stream",
     "text": [
      "Validation Set Accuracy: 94.91525423728814 %\n"
     ]
    }
   ],
   "source": [
    "# Make predictions on the testing data\n",
    "y_pred = clf.predict(val_X)\n",
    "\n",
    "# Evaluate the model's accuracy\n",
    "accuracy = accuracy_score(val_y, y_pred)\n",
    "print('Validation Set Accuracy:', accuracy * 100, '%')"
   ]
  },
  {
   "cell_type": "code",
   "execution_count": 18,
   "id": "112c15a2-b374-456b-b7e9-5710c9a8ff6f",
   "metadata": {},
   "outputs": [
    {
     "name": "stdout",
     "output_type": "stream",
     "text": [
      "Test Set Accuracy: 92.72727272727272 %\n"
     ]
    }
   ],
   "source": [
    "# Make predictions on the testing data\n",
    "y_pred2 = clf.predict(test_X)\n",
    "\n",
    "# Evaluate the model's accuracy\n",
    "accuracy2 = accuracy_score(test_y, y_pred2)\n",
    "print('Test Set Accuracy:', accuracy2 * 100, '%')"
   ]
  },
  {
   "cell_type": "code",
   "execution_count": null,
   "id": "fb6ec1c9-0e14-4554-a3b4-ad282c62a8f3",
   "metadata": {},
   "outputs": [],
   "source": []
  }
 ],
 "metadata": {
  "kernelspec": {
   "display_name": "Python 3 (ipykernel)",
   "language": "python",
   "name": "python3"
  },
  "language_info": {
   "codemirror_mode": {
    "name": "ipython",
    "version": 3
   },
   "file_extension": ".py",
   "mimetype": "text/x-python",
   "name": "python",
   "nbconvert_exporter": "python",
   "pygments_lexer": "ipython3",
   "version": "3.9.13"
  }
 },
 "nbformat": 4,
 "nbformat_minor": 5
}
